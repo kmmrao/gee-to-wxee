{
  "nbformat": 4,
  "nbformat_minor": 0,
  "metadata": {
    "colab": {
      "provenance": []
    },
    "kernelspec": {
      "name": "python3",
      "display_name": "Python 3"
    },
    "language_info": {
      "name": "python"
    }
  },
  "cells": [
    {
      "cell_type": "code",
      "execution_count": null,
      "metadata": {
        "id": "hudua25HDBAX"
      },
      "outputs": [],
      "source": [
        "!earthengine authenticate"
      ]
    },
    {
      "cell_type": "code",
      "source": [
        "!pip install wxee"
      ],
      "metadata": {
        "id": "3nwCnBQEDLK-"
      },
      "execution_count": null,
      "outputs": []
    },
    {
      "cell_type": "code",
      "source": [
        "import ee\n",
        "import wxee\n",
        "wxee.Initialize()\n",
        "import pandas as pd\n",
        "import numpy as np\n",
        "import datetime as dt\n",
        "from datetime import datetime, timedelta\n",
        "import  xarray as xr\n",
        "rectangle = ee.Geometry.Rectangle([70, 10, 90, 35])\n",
        "a = pd.date_range(start='2022-12-20', end='2022-12-31')\n",
        "# print(a)\n",
        "for k in a:\n",
        "    dates = k    \n",
        "    datee = k + timedelta(days = 1)\n",
        "    print(datee)\n",
        "    era5_2mt = ee.ImageCollection('ECMWF/ERA5_LAND/HOURLY') \\\n",
        "                .select('temperature_2m','total_precipitation','u_component_of_wind_10m','v_component_of_wind_10m','surface_solar_radiation_downwards','leaf_area_index_high_vegetation','leaf_area_index_low_vegetation') \\\n",
        "                .filter(ee.Filter.date(dates, datee))\n",
        "    ds = era5_2mt.wx.to_xarray(region=rectangle.bounds(), scale=10_000) \n",
        "    print(ds)\n",
        "    # ds.to_netcdf('ERA5_GLOBAL_for_HCHO_{}_.nc'.format(dates.strftime('%Y-%m-%d')))"
      ],
      "metadata": {
        "id": "RUXUVYfODP9W"
      },
      "execution_count": null,
      "outputs": []
    },
    {
      "cell_type": "code",
      "source": [],
      "metadata": {
        "id": "K9hJA0QYDXmQ"
      },
      "execution_count": null,
      "outputs": []
    }
  ]
}